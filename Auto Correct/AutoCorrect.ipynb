{
 "cells": [
  {
   "attachments": {},
   "cell_type": "markdown",
   "metadata": {},
   "source": [
    "## Naive Autocorrect\n",
    "1. This is a Naive Auto Correct program.<br>\n",
    "2. This code is a novice implementation as it is trained on limited data and the prediction does not consider the context.<br>\n",
    "3. But this code can still predict <font color=#068DA9> the correct dictionary word one or two distances away</font>.<br>\n",
    "4. I also implemented the minimum edit distance using <font color=#068DA9>Levenshtein distance</font> which uses the concept of <b>Dynamic programming</b><br> "
   ]
  },
  {
   "cell_type": "code",
   "execution_count": 1,
   "metadata": {},
   "outputs": [],
   "source": [
    "import re\n",
    "from collections import Counter\n",
    "import numpy as np\n",
    "import pandas as pd"
   ]
  },
  {
   "cell_type": "code",
   "execution_count": 2,
   "metadata": {},
   "outputs": [],
   "source": [
    "def process_words(file_name):\n",
    "    words=[]\n",
    "    with open(file_name) as file:\n",
    "        file_contents = file.read().lower()\n",
    "        # print(file_contents)\n",
    "        words=re.findall('\\w+',file_contents)\n",
    "    return words\n"
   ]
  },
  {
   "cell_type": "code",
   "execution_count": 3,
   "metadata": {},
   "outputs": [
    {
     "name": "stdout",
     "output_type": "stream",
     "text": [
      "The first ten words in the text are: \n",
      "['o', 'for', 'a', 'muse', 'of', 'fire', 'that', 'would', 'ascend', 'the']\n",
      "There are 6116 unique words in the vocabulary.\n"
     ]
    }
   ],
   "source": [
    "words=process_words(\"shakespeare.txt\")\n",
    "vocab=set(words)\n",
    "print(f\"The first ten words in the text are: \\n{words[0:10]}\")\n",
    "print(f\"There are {len(vocab)} unique words in the vocabulary.\")\n"
   ]
  },
  {
   "cell_type": "code",
   "execution_count": 4,
   "metadata": {},
   "outputs": [],
   "source": [
    "def get_count(words):\n",
    "    #Finding the count of Each word in text\n",
    "    dic={}\n",
    "    dic=Counter(words)\n",
    "    return dic"
   ]
  },
  {
   "cell_type": "code",
   "execution_count": 5,
   "metadata": {},
   "outputs": [
    {
     "name": "stdout",
     "output_type": "stream",
     "text": [
      "There are 6116 key values pairs\n",
      "The count for the word 'thee' is 240\n"
     ]
    }
   ],
   "source": [
    "word_count_dict = get_count(words)\n",
    "print(f\"There are {len(word_count_dict)} key values pairs\")\n",
    "print(f\"The count for the word 'thee' is {word_count_dict.get('thee',0)}\")\n"
   ]
  },
  {
   "cell_type": "code",
   "execution_count": 6,
   "metadata": {},
   "outputs": [],
   "source": [
    "def get_probs(word_count_dict):\n",
    "    #Finding probabilities of the words\n",
    "    probs={}\n",
    "    values=list(word_count_dict.values())\n",
    "    total_words=np.sum(values)\n",
    "    for word in word_count_dict.keys():\n",
    "        count=word_count_dict[word]\n",
    "        # print(type(count))\n",
    "        probs[word]=count/total_words\n",
    "    return probs"
   ]
  },
  {
   "cell_type": "code",
   "execution_count": 7,
   "metadata": {},
   "outputs": [
    {
     "name": "stdout",
     "output_type": "stream",
     "text": [
      "Length of probs is 6116\n",
      "P('thee') is 0.0045\n"
     ]
    }
   ],
   "source": [
    "probs = get_probs(word_count_dict)\n",
    "print(f\"Length of probs is {len(probs)}\")\n",
    "print(f\"P('thee') is {probs['thee']:.4f}\")"
   ]
  },
  {
   "cell_type": "code",
   "execution_count": 8,
   "metadata": {},
   "outputs": [],
   "source": [
    "def delete_letter(word,verbose=True):\n",
    "    #This function will generate words by deleting the one letter for given word.\n",
    "    delete_l=[]\n",
    "    splits_l=[]\n",
    "    for i in range(len(word)):\n",
    "        splits_l.append((word[:i],word[i:]))\n",
    "    # print(splits_l)\n",
    "    delete_l=[L+R[1:] for L,R in splits_l if R] \n",
    "    # print(delete_l)\n",
    "    if verbose:\n",
    "        print(\n",
    "            f\"Input word = {word} \\nsplit_l = {splits_l} \\delete_l = {delete_l}\")\n",
    "    return delete_l"
   ]
  },
  {
   "cell_type": "code",
   "execution_count": 9,
   "metadata": {},
   "outputs": [
    {
     "name": "stdout",
     "output_type": "stream",
     "text": [
      "Input word = cans \n",
      "split_l = [('', 'cans'), ('c', 'ans'), ('ca', 'ns'), ('can', 's')] \\delete_l = ['ans', 'cns', 'cas', 'can']\n"
     ]
    }
   ],
   "source": [
    "delete_l=delete_letter(word=\"cans\",verbose=True)"
   ]
  },
  {
   "cell_type": "code",
   "execution_count": 10,
   "metadata": {},
   "outputs": [],
   "source": [
    "def switch_letter(word,verbose=False):\n",
    "    #This function will  generate words by swaping the adjacent letters of given word.\n",
    "    def swap(c,i,j):\n",
    "        c=list(c)\n",
    "        c[i],c[j]=c[j],c[i]\n",
    "        return ''.join(c)\n",
    "    \n",
    "    switch_l=[]\n",
    "    splits_l=[]\n",
    "    len_word=len(word)\n",
    "    for i in range(0,len_word):\n",
    "        splits_l.append((word[:i],word[i:]))\n",
    "    # print(splits_l)\n",
    "    for L,R in splits_l:\n",
    "        if len(R)>=2:\n",
    "            i=len(L)-1\n",
    "            j=len(L)\n",
    "            c=swap(L+R,i,j)\n",
    "            switch_l.append(c)\n",
    "    if verbose:\n",
    "        print(\n",
    "            f\"Input word = {word} \\nsplit_l = {splits_l} \\nswitch_l = {switch_l}\")\n",
    "    return switch_l\n"
   ]
  },
  {
   "cell_type": "code",
   "execution_count": 11,
   "metadata": {},
   "outputs": [
    {
     "name": "stdout",
     "output_type": "stream",
     "text": [
      "Input word = eta \n",
      "split_l = [('', 'eta'), ('e', 'ta'), ('et', 'a')] \n",
      "switch_l = ['ate', 'tea']\n"
     ]
    }
   ],
   "source": [
    "switch_l=switch_letter('eta',verbose=True)"
   ]
  },
  {
   "cell_type": "code",
   "execution_count": 12,
   "metadata": {},
   "outputs": [
    {
     "name": "stdout",
     "output_type": "stream",
     "text": [
      "Number of outputs of switch_letter('at') is 1\n"
     ]
    }
   ],
   "source": [
    "#test2#\n",
    "print(\n",
    "    f\"Number of outputs of switch_letter('at') is {len(switch_letter('at'))}\")\n"
   ]
  },
  {
   "cell_type": "code",
   "execution_count": 13,
   "metadata": {},
   "outputs": [],
   "source": [
    "def replace_letter(word,verbose=False):\n",
    "    #This function will generate words by replacing the one letter of the word with remaining letters from a-z.\n",
    "    letters = 'abcdefghijklmnopqrstuvwxyz'\n",
    "    replace_l = []\n",
    "    split_l = []\n",
    "    for i in range(0,len(word)):\n",
    "        split_l.append((word[:i],word[i:]))\n",
    "    for L,R in (split_l):\n",
    "        if R:\n",
    "            c=R[0]\n",
    "            for letter in (letters):\n",
    "                if c!=letter:\n",
    "                    replace_l.append(L+letter+R[1:])\n",
    "    replace_l=sorted(list(set(replace_l)))\n",
    "    if verbose: print(f\"Input word = {word} \\nsplit_l = {split_l} \\nreplace_l {replace_l}\")   \n",
    "    return replace_l"
   ]
  },
  {
   "cell_type": "code",
   "execution_count": 14,
   "metadata": {},
   "outputs": [
    {
     "name": "stdout",
     "output_type": "stream",
     "text": [
      "Input word = can \n",
      "split_l = [('', 'can'), ('c', 'an'), ('ca', 'n')] \n",
      "replace_l ['aan', 'ban', 'caa', 'cab', 'cac', 'cad', 'cae', 'caf', 'cag', 'cah', 'cai', 'caj', 'cak', 'cal', 'cam', 'cao', 'cap', 'caq', 'car', 'cas', 'cat', 'cau', 'cav', 'caw', 'cax', 'cay', 'caz', 'cbn', 'ccn', 'cdn', 'cen', 'cfn', 'cgn', 'chn', 'cin', 'cjn', 'ckn', 'cln', 'cmn', 'cnn', 'con', 'cpn', 'cqn', 'crn', 'csn', 'ctn', 'cun', 'cvn', 'cwn', 'cxn', 'cyn', 'czn', 'dan', 'ean', 'fan', 'gan', 'han', 'ian', 'jan', 'kan', 'lan', 'man', 'nan', 'oan', 'pan', 'qan', 'ran', 'san', 'tan', 'uan', 'van', 'wan', 'xan', 'yan', 'zan']\n"
     ]
    }
   ],
   "source": [
    "replace_l=(replace_letter('can',verbose=True))"
   ]
  },
  {
   "cell_type": "code",
   "execution_count": 15,
   "metadata": {},
   "outputs": [],
   "source": [
    "def insert_letter(word,verbose=True):\n",
    "    #This function will words by inserting the one letter in the  given word by letters in a-z.#\n",
    "    letters = 'abcdefghijklmnopqrstuvwxyz'\n",
    "    insert_l = []\n",
    "    split_l = []\n",
    "    for i in range(len(word)+1):\n",
    "        split_l.append((word[:i],word[i:]))\n",
    "    for L,R in (split_l):\n",
    "        for letter in (letters):\n",
    "            insert_l.append(L+letter+R)\n",
    "    insert_l=sorted(list((insert_l)))\n",
    "    if verbose: print(f\"Input word = {word} \\nsplit_l = {split_l} \\ninsert_l {insert_l}\")   \n",
    "    return insert_l\n"
   ]
  },
  {
   "cell_type": "code",
   "execution_count": 16,
   "metadata": {},
   "outputs": [
    {
     "name": "stdout",
     "output_type": "stream",
     "text": [
      "Input word = at \n",
      "split_l = [('', 'at'), ('a', 't'), ('at', '')] \n",
      "insert_l ['aat', 'aat', 'abt', 'act', 'adt', 'aet', 'aft', 'agt', 'aht', 'ait', 'ajt', 'akt', 'alt', 'amt', 'ant', 'aot', 'apt', 'aqt', 'art', 'ast', 'ata', 'atb', 'atc', 'atd', 'ate', 'atf', 'atg', 'ath', 'ati', 'atj', 'atk', 'atl', 'atm', 'atn', 'ato', 'atp', 'atq', 'atr', 'ats', 'att', 'att', 'atu', 'atv', 'atw', 'atx', 'aty', 'atz', 'aut', 'avt', 'awt', 'axt', 'ayt', 'azt', 'bat', 'cat', 'dat', 'eat', 'fat', 'gat', 'hat', 'iat', 'jat', 'kat', 'lat', 'mat', 'nat', 'oat', 'pat', 'qat', 'rat', 'sat', 'tat', 'uat', 'vat', 'wat', 'xat', 'yat', 'zat']\n",
      "Number of strings output by insert_letter('at') is 78\n"
     ]
    }
   ],
   "source": [
    "insert_l = insert_letter('at', True)\n",
    "print(f\"Number of strings output by insert_letter('at') is {len(insert_l)}\")\n"
   ]
  },
  {
   "cell_type": "code",
   "execution_count": 17,
   "metadata": {},
   "outputs": [],
   "source": [
    "def edit_one_letter(word,allow_switches=True):\n",
    "    edit_one_set=set()\n",
    "    edit_one_set.update(delete_letter(word, verbose=False))\n",
    "    if allow_switches:\n",
    "        edit_one_set.update(switch_letter(word,verbose=False))\n",
    "    edit_one_set.update(insert_letter(word,verbose=False))\n",
    "    edit_one_set.update(replace_letter(word,verbose=False))\n",
    "    return edit_one_set"
   ]
  },
  {
   "cell_type": "code",
   "execution_count": 18,
   "metadata": {},
   "outputs": [
    {
     "name": "stdout",
     "output_type": "stream",
     "text": [
      "input word at \n",
      "edit_one_l \n",
      "['a', 'aa', 'aat', 'ab', 'abt', 'ac', 'act', 'ad', 'adt', 'ae', 'aet', 'af', 'aft', 'ag', 'agt', 'ah', 'aht', 'ai', 'ait', 'aj', 'ajt', 'ak', 'akt', 'al', 'alt', 'am', 'amt', 'an', 'ant', 'ao', 'aot', 'ap', 'apt', 'aq', 'aqt', 'ar', 'art', 'as', 'ast', 'ata', 'atb', 'atc', 'atd', 'ate', 'atf', 'atg', 'ath', 'ati', 'atj', 'atk', 'atl', 'atm', 'atn', 'ato', 'atp', 'atq', 'atr', 'ats', 'att', 'atu', 'atv', 'atw', 'atx', 'aty', 'atz', 'au', 'aut', 'av', 'avt', 'aw', 'awt', 'ax', 'axt', 'ay', 'ayt', 'az', 'azt', 'bat', 'bt', 'cat', 'ct', 'dat', 'dt', 'eat', 'et', 'fat', 'ft', 'gat', 'gt', 'hat', 'ht', 'iat', 'it', 'jat', 'jt', 'kat', 'kt', 'lat', 'lt', 'mat', 'mt', 'nat', 'nt', 'oat', 'ot', 'pat', 'pt', 'qat', 'qt', 'rat', 'rt', 'sat', 'st', 't', 'ta', 'tat', 'tt', 'uat', 'ut', 'vat', 'vt', 'wat', 'wt', 'xat', 'xt', 'yat', 'yt', 'zat', 'zt']\n",
      "\n",
      "The type of the returned object should be a set <class 'set'>\n",
      "Number of outputs from edit_one_letter('at') is 129\n"
     ]
    }
   ],
   "source": [
    "tmp_word = \"at\"\n",
    "tmp_edit_one_set = edit_one_letter(tmp_word)\n",
    "# turn this into a list to sort it, in order to view it\n",
    "tmp_edit_one_l = sorted(list(tmp_edit_one_set))\n",
    "\n",
    "print(f\"input word {tmp_word} \\nedit_one_l \\n{tmp_edit_one_l}\\n\")\n",
    "print(\n",
    "    f\"The type of the returned object should be a set {type(tmp_edit_one_set)}\")\n",
    "print(\n",
    "    f\"Number of outputs from edit_one_letter('at') is {len(edit_one_letter('at'))}\")\n"
   ]
  },
  {
   "cell_type": "code",
   "execution_count": 19,
   "metadata": {},
   "outputs": [],
   "source": [
    "def edit_two_letters(word, allow_switches=True):\n",
    "    edit_two_set=set()\n",
    "    edit_one_words_set=edit_one_letter(word,allow_switches)\n",
    "    for edited_word in edit_one_words_set:\n",
    "        edit_one_edited_words=edit_one_letter(edited_word,allow_switches)\n",
    "        edit_two_set.update(edit_one_edited_words)\n",
    "    return edit_two_set"
   ]
  },
  {
   "cell_type": "code",
   "execution_count": 20,
   "metadata": {},
   "outputs": [
    {
     "name": "stdout",
     "output_type": "stream",
     "text": [
      "Number of strings with edit distance of two: 2654\n",
      "First 10 strings ['', 'a', 'aa', 'aaa', 'aab', 'aac', 'aad', 'aae', 'aaf', 'aag']\n",
      "Last 10 strings ['zv', 'zva', 'zw', 'zwa', 'zx', 'zxa', 'zy', 'zya', 'zz', 'zza']\n",
      "The data type of the returned object should be a set <class 'set'>\n",
      "Number of strings that are 2 edit distances from 'at' is 7154\n"
     ]
    }
   ],
   "source": [
    "tmp_edit_two_set = edit_two_letters(\"a\")\n",
    "tmp_edit_two_l = sorted(list(tmp_edit_two_set))\n",
    "print(f\"Number of strings with edit distance of two: {len(tmp_edit_two_l)}\")\n",
    "print(f\"First 10 strings {tmp_edit_two_l[:10]}\")\n",
    "print(f\"Last 10 strings {tmp_edit_two_l[-10:]}\")\n",
    "print(\n",
    "    f\"The data type of the returned object should be a set {type(tmp_edit_two_set)}\")\n",
    "print(\n",
    "    f\"Number of strings that are 2 edit distances from 'at' is {len(edit_two_letters('at'))}\")\n"
   ]
  },
  {
   "cell_type": "code",
   "execution_count": 21,
   "metadata": {},
   "outputs": [],
   "source": [
    "def get_corrections(word, probs, vocab, n=2, verbose=False):\n",
    "    #This is the Ultimate Function to get n best words sunggestion for given word\n",
    "    suggestions=[]\n",
    "    n_best=[]\n",
    "    edit_one_set=edit_one_letter(word, allow_switches=True)\n",
    "    edit_two_set=edit_two_letters(word,allow_switches=True)\n",
    "    real_one_edit_words=vocab.intersection(edit_one_set)\n",
    "    real_two_edit_words=vocab.intersection(edit_two_set)\n",
    "    suggestions=list(real_one_edit_words or real_two_edit_words)\n",
    "    probs_suggestion=[probs[suggestion] for suggestion in suggestions]\n",
    "    sorted_probs=np.argsort(probs_suggestion)[-n:]\n",
    "    for index in sorted_probs:\n",
    "        word=suggestions[index]\n",
    "        probability_word=probs[word]\n",
    "        n_best.append((word,probability_word))\n",
    "    if verbose: print(\"suggestions = \", suggestions)\n",
    "    n_best=reversed(n_best)\n",
    "    return n_best\n",
    "\n",
    "    "
   ]
  },
  {
   "cell_type": "code",
   "execution_count": 25,
   "metadata": {},
   "outputs": [
    {
     "name": "stdout",
     "output_type": "stream",
     "text": [
      "word 0: eye, probability 0.000914\n",
      "word 1: die, probability 0.000560\n",
      "data type of corrections <class 'list_reverseiterator'>\n"
     ]
    }
   ],
   "source": [
    "my_word = 'dye'\n",
    "tmp_corrections = get_corrections(my_word, probs, vocab, 2, verbose=False)\n",
    "for i, word_prob in enumerate(tmp_corrections):\n",
    "    print(f\"word {i}: {word_prob[0]}, probability {word_prob[1]:.6f}\")\n",
    "# CODE REVIEW COMMENT: using \"tmp_corrections\" insteads of \"cors\". \"cors\" is not defined\n",
    "print(f\"data type of corrections {type(tmp_corrections)}\")\n"
   ]
  },
  {
   "cell_type": "code",
   "execution_count": 36,
   "metadata": {},
   "outputs": [],
   "source": [
    "def min_edit_distance(source, target, ins_cost=1, del_cost=1, rep_cost=2):\n",
    "    #Finding minimun distance from target to \n",
    "    m=len(source)\n",
    "    n=len(target)\n",
    "    dp=np.zeros((m+1,n+1),dtype=int)\n",
    "    for i in range(0,m+1):\n",
    "        dp[i][0]=i\n",
    "    for j in range(0,n+1):\n",
    "        dp[0][j]=j\n",
    "    for i in range(1,m+1):\n",
    "        for j in range(1,n+1):\n",
    "            if(source[i-1]==target[j-1]):\n",
    "                dp[i][j]=dp[i-1][j-1]\n",
    "            else:\n",
    "                insert=ins_cost+dp[i][j-1]\n",
    "                delete=del_cost+dp[i-1][j]\n",
    "                replace=rep_cost+dp[i-1][j-1]\n",
    "                dp[i][j]=min(insert,min(delete,replace))\n",
    "    med=dp[m][n]\n",
    "    return dp,med"
   ]
  },
  {
   "cell_type": "code",
   "execution_count": 37,
   "metadata": {},
   "outputs": [
    {
     "name": "stdout",
     "output_type": "stream",
     "text": [
      "minimum edits:  4 \n",
      "\n",
      "   #  s  t  a  y\n",
      "#  0  1  2  3  4\n",
      "p  1  2  3  4  5\n",
      "l  2  3  4  5  6\n",
      "a  3  4  5  4  5\n",
      "y  4  5  6  5  4\n"
     ]
    }
   ],
   "source": [
    "source = 'play'\n",
    "target = 'stay'\n",
    "matrix, min_edits = min_edit_distance(source, target)\n",
    "print(\"minimum edits: \", min_edits, \"\\n\")\n",
    "idx = list('#' + source)\n",
    "cols = list('#' + target)\n",
    "df = pd.DataFrame(matrix, index=idx, columns=cols)\n",
    "print(df)\n"
   ]
  },
  {
   "cell_type": "code",
   "execution_count": 38,
   "metadata": {},
   "outputs": [
    {
     "name": "stdout",
     "output_type": "stream",
     "text": [
      "minimum edits:  3 \n",
      "\n",
      "   #  n  e  a  r\n",
      "#  0  1  2  3  4\n",
      "e  1  2  1  2  3\n",
      "e  2  3  2  3  4\n",
      "r  3  4  3  4  3\n"
     ]
    }
   ],
   "source": [
    "source = 'eer'\n",
    "target = 'near'\n",
    "matrix, min_edits = min_edit_distance(source, target)\n",
    "print(\"minimum edits: \", min_edits, \"\\n\")\n",
    "idx = list(source)\n",
    "idx.insert(0, '#')\n",
    "cols = list(target)\n",
    "cols.insert(0, '#')\n",
    "df = pd.DataFrame(matrix, index=idx, columns=cols)\n",
    "print(df)\n"
   ]
  },
  {
   "cell_type": "code",
   "execution_count": 40,
   "metadata": {},
   "outputs": [],
   "source": [
    "source = \"eer\"\n",
    "targets = edit_one_letter(source,allow_switches = False)  #disable switches since min_edit_distance does not include them\n",
    "for t in targets:\n",
    "    _, min_edits = min_edit_distance(source, t,1,1,1)  # set ins, del, sub costs all to one\n",
    "    if min_edits != 1: print(source, t, min_edits)"
   ]
  },
  {
   "cell_type": "code",
   "execution_count": 41,
   "metadata": {},
   "outputs": [
    {
     "name": "stdout",
     "output_type": "stream",
     "text": [
      "eer eer 0\n"
     ]
    }
   ],
   "source": [
    "source = \"eer\"\n",
    "targets = edit_two_letters(source,allow_switches = False) #disable switches since min_edit_distance does not include them\n",
    "for t in targets:\n",
    "    _, min_edits = min_edit_distance(source, t,1,1,1)  # set ins, del, sub costs all to one\n",
    "    if min_edits != 2 and min_edits != 1: print(source, t, min_edits)"
   ]
  },
  {
   "cell_type": "code",
   "execution_count": null,
   "metadata": {},
   "outputs": [],
   "source": []
  }
 ],
 "metadata": {
  "kernelspec": {
   "display_name": "Python 3",
   "language": "python",
   "name": "python3"
  },
  "language_info": {
   "codemirror_mode": {
    "name": "ipython",
    "version": 3
   },
   "file_extension": ".py",
   "mimetype": "text/x-python",
   "name": "python",
   "nbconvert_exporter": "python",
   "pygments_lexer": "ipython3",
   "version": "3.9.15"
  },
  "orig_nbformat": 4
 },
 "nbformat": 4,
 "nbformat_minor": 2
}

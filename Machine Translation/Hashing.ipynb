{
 "cells": [
  {
   "cell_type": "code",
   "execution_count": 33,
   "metadata": {},
   "outputs": [],
   "source": [
    "import numpy as np\n",
    "from pprint import pprint\n",
    "import matplotlib.pyplot as plt \n",
    "\n"
   ]
  },
  {
   "cell_type": "code",
   "execution_count": 34,
   "metadata": {},
   "outputs": [],
   "source": [
    "def get_hash_table(value_1,n_buckets):\n",
    "\n",
    "    def hash_function(value, n_buckets):\n",
    "        return value%n_buckets\n",
    "\n",
    "    hash_table={i:[] for i  in range(n_buckets)}\n",
    "    for value in (value_1):\n",
    "        hash_value=hash_function(value,n_buckets)\n",
    "        hash_table[hash_value].append(value)\n",
    "    return hash_table\n",
    "\n"
   ]
  },
  {
   "cell_type": "code",
   "execution_count": 35,
   "metadata": {},
   "outputs": [],
   "source": [
    "# hash_table={i:[] for i  in range(10)}\n",
    "# # hash_table[0].append(0)\n",
    "# pp.pprint(hash_table)"
   ]
  },
  {
   "cell_type": "code",
   "execution_count": 36,
   "metadata": {},
   "outputs": [
    {
     "name": "stdout",
     "output_type": "stream",
     "text": [
      "{   0: [10],\n",
      "    1: [1, 11],\n",
      "    2: [2, 2],\n",
      "    3: [],\n",
      "    4: [],\n",
      "    5: [45, 55],\n",
      "    6: [],\n",
      "    7: [],\n",
      "    8: [],\n",
      "    9: []}\n"
     ]
    }
   ],
   "source": [
    "value_1=[1,2,2,10,11,45,55]\n",
    "ht=get_hash_table(value_1,10)\n",
    "pp.pprint(ht)"
   ]
  },
  {
   "cell_type": "code",
   "execution_count": 44,
   "metadata": {},
   "outputs": [
    {
     "data": {
      "text/plain": [
       "array([[3]])"
      ]
     },
     "execution_count": 44,
     "metadata": {},
     "output_type": "execute_result"
    }
   ],
   "source": [
    "p=np.array([[1,2]])\n",
    "v1=np.array([[1,1]])\n",
    "result=np.dot(p,v1.T)\n",
    "result"
   ]
  },
  {
   "cell_type": "code",
   "execution_count": null,
   "metadata": {},
   "outputs": [],
   "source": []
  }
 ],
 "metadata": {
  "kernelspec": {
   "display_name": "Python 3",
   "language": "python",
   "name": "python3"
  },
  "language_info": {
   "codemirror_mode": {
    "name": "ipython",
    "version": 3
   },
   "file_extension": ".py",
   "mimetype": "text/x-python",
   "name": "python",
   "nbconvert_exporter": "python",
   "pygments_lexer": "ipython3",
   "version": "3.9.15"
  },
  "orig_nbformat": 4
 },
 "nbformat": 4,
 "nbformat_minor": 2
}
